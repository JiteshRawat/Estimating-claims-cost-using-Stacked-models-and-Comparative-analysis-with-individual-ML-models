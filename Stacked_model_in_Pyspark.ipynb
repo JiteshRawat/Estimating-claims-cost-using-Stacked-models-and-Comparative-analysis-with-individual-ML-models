{
  "cells": [
    {
      "cell_type": "code",
      "execution_count": null,
      "metadata": {
        "id": "QV7tw_Z3z3Hm"
      },
      "outputs": [],
      "source": [
        "!pip install pyspark\n",
        "!pip install -U -q PyDrive\n",
        "!apt install openjdk-8-jdk-headless -qq\n",
        "import os\n",
        "os.environ[\"JAVA_HOME\"] = \"/usr/lib/jvm/java-8-openjdk-amd64\"\n",
        "import pandas as pd\n",
        "import numpy as np\n",
        "import matplotlib.pyplot as plt\n",
        "import seaborn as sns\n",
        "sns.set_theme()\n",
        "%matplotlib inline\n",
        "\n",
        "import pyspark\n",
        "from pyspark.sql import *\n",
        "from pyspark.sql.types import *\n",
        "from pyspark.sql.functions import *\n",
        "import pyspark.sql.functions as F\n",
        "from pyspark.sql.functions import pandas_udf, PandasUDFType\n",
        "from pyspark import SparkContext, SparkConf"
      ]
    },
    {
      "cell_type": "code",
      "execution_count": null,
      "metadata": {
        "id": "3JxKyKeVz-Um"
      },
      "outputs": [],
      "source": [
        "# create the session\n",
        "conf = SparkConf().set(\"spark.ui.port\", \"4050\")\n",
        "\n",
        "# create the context\n",
        "sc = pyspark.SparkContext(conf=conf)\n",
        "spark = SparkSession.builder.getOrCreate()"
      ]
    },
    {
      "cell_type": "markdown",
      "source": [
        "Loading dataset"
      ],
      "metadata": {
        "id": "970zYj_BtLDu"
      }
    },
    {
      "cell_type": "code",
      "execution_count": null,
      "metadata": {
        "id": "KeAnyLhb0ASN"
      },
      "outputs": [],
      "source": [
        "filepath = \"/content/drive/MyDrive/CAS_with_claims_final.csv\"\n",
        "df = spark.read.csv(filepath, header= True, inferSchema = True)"
      ]
    },
    {
      "cell_type": "code",
      "execution_count": null,
      "metadata": {
        "id": "ByDxvruG0DX_"
      },
      "outputs": [],
      "source": [
        "col_to_drop = ['_c0', 'X', 'Y','OBJECTID' ,'crashRoadSideRoad','intersection','pedestrian','temporarySpeedLimit','advisorySpeed',\n",
        "              'crashDirectionDescription', 'crashFinancialYear', 'crashLocation1', 'crashLocation2', 'crashSHDescription',\n",
        "              'directionRoleDescription', 'flatHill', 'holiday', 'light', 'region',\n",
        "              'roadCharacter', 'roadLane', 'roadSurface', 'streetLight', 'tlaName', 'meshblockId', 'areaUnitID', 'crashYear', 'tlaId',\n",
        "              'trafficControl', 'crashSeverity' ]\n",
        "\n",
        "\n",
        "df = df.drop(*col_to_drop)\n",
        "\n",
        "df = df.na.drop()\n",
        "cols_to_encode= ['weatherA', 'weatherB', 'urban']"
      ]
    },
    {
      "cell_type": "markdown",
      "metadata": {
        "id": "6RezEyNL0IpY"
      },
      "source": [
        "Encoding categorical features into numerical"
      ]
    },
    {
      "cell_type": "code",
      "execution_count": null,
      "metadata": {
        "id": "CjjJ0Kv50IZP"
      },
      "outputs": [],
      "source": [
        "# import the required libraries\n",
        "from pyspark.ml.feature import StringIndexer\n",
        "from pyspark.ml.feature import OneHotEncoder\n",
        "\n",
        "# numeric indexing for the strings (indexing starts from 0)\n",
        "indexer = StringIndexer(inputCols= cols_to_encode, outputCols= ['weatherA_num', 'weatherB_num', 'urban_num'] ) \n",
        "\n",
        "# fit the indexer model and use it to transform the strings into numeric indices\n",
        "indexed_df = indexer.fit(df).transform(df)\n",
        "\n",
        "# one-hot-encoding the numeric indices\n",
        "ohe = OneHotEncoder(inputCols= [ 'weatherA_num', 'weatherB_num', 'urban_num'], outputCols= ['weatherA_onehot', 'weatherB_onehot', 'urban_onehot'])\n",
        "\n",
        "# fit the ohe model and use it to transform the numeric indices into ohe vectors\n",
        "df1 = ohe.fit(indexed_df).transform(indexed_df)\n",
        "\n",
        "df1= df1.drop(*cols_to_encode)\n",
        "X = df1.drop('Claim_amount')\n"
      ]
    },
    {
      "cell_type": "code",
      "execution_count": null,
      "metadata": {
        "id": "XVADaFWF0Tel"
      },
      "outputs": [],
      "source": [
        "from pyspark.ml.regression import GeneralizedLinearRegression\n",
        "from pyspark.ml.regression import RandomForestRegressor\n",
        "from pyspark.ml.regression import GBTRegressor\n",
        "from pyspark.ml.regression import DecisionTreeRegressor\n",
        "from pyspark.mllib.evaluation import RegressionMetrics\n",
        "\n",
        "tweedie = GeneralizedLinearRegression(family=\"tweedie\", linkPower= 0, variancePower= 1 , labelCol=\"label\")\n",
        "gbr = GBTRegressor(featuresCol=\"features\", maxIter=10)\n",
        "dt = DecisionTreeRegressor(maxDepth= 10)\n",
        "rf = RandomForestRegressor(numTrees=50, maxDepth=10)"
      ]
    },
    {
      "cell_type": "code",
      "execution_count": null,
      "metadata": {
        "id": "XTGFQ94O6-Ze"
      },
      "outputs": [],
      "source": [
        "from pyspark.ml.feature import VectorAssembler\n",
        "\n",
        "def my_VectorAssembler(input_cols, output_col, data):\n",
        "  vectorAssembler = VectorAssembler(inputCols = input_cols, outputCol = output_col)\n",
        "  v_df = vectorAssembler.transform(data)\n",
        "  return v_df\n",
        "\n",
        "def split_data(data):\n",
        "  train, test= data.randomSplit([0.7, 0.3])\n",
        "  return train, test\n",
        "\n",
        "def transform(data, model):\n",
        "  predictions = model.transform(data)\n",
        "  return predictions\n",
        "\n",
        "def get_meta_features(train, model):\n",
        "  result= model.fit(train)\n",
        "  return result"
      ]
    },
    {
      "cell_type": "code",
      "execution_count": null,
      "metadata": {
        "id": "yE2lKXUp7eql"
      },
      "outputs": [],
      "source": [
        "#Vector assembler and train test split\n",
        "v_df = my_VectorAssembler(X.columns, 'features', df1)\n",
        "v_df = v_df.select(['features', 'Claim_amount'])\n",
        "v_df = v_df.withColumnRenamed('Claim_amount', 'label')\n",
        "\n",
        "train, test= split_data(v_df)\n",
        "train1, train2= train.randomSplit([0.5, 0.5])"
      ]
    },
    {
      "cell_type": "markdown",
      "source": [
        "Defining function for stack"
      ],
      "metadata": {
        "id": "BGGgFohetq6D"
      }
    },
    {
      "cell_type": "code",
      "source": [
        "def train_pipeline(train1, train2, model1, model2, final_model):\n",
        "  #Tweedie\n",
        "  reg1= get_meta_features(train1, model1)\n",
        "  \n",
        "  #GBR\n",
        "  reg2= get_meta_features(train1, model2)\n",
        "  \n",
        "  #Getting base learner features\n",
        "  #features from tweedie model\n",
        "  predictions= transform(train2, reg1)\n",
        "  train_new = predictions.withColumnRenamed('prediction', 'dt_pred')\n",
        "  \n",
        "  #features from gbr model\n",
        "  predictions= transform(train2, reg2)\n",
        "  train_gbr = predictions.withColumnRenamed('prediction', 'gbr_pred').drop('features','label')\n",
        "  \n",
        "  #concatenating feature vectors for final estimation\n",
        "  train_new = train_new.withColumn(\"id\", F.monotonically_increasing_id())\n",
        "  train_gbr = train_gbr.withColumn(\"id\", F.monotonically_increasing_id())\n",
        "  train_df = train_new.join(train_gbr, on=['id'], how='left_outer')\n",
        "  train_features = my_VectorAssembler( ['features','dt_pred', 'gbr_pred'] , 'meta_features', train_df)\n",
        "  train_features = train_features.select(['meta_features', 'label'])\n",
        "  train_features= train_features.withColumnRenamed('meta_features', 'features')\n",
        "  \n",
        "  #Final estimator Random forest\n",
        "  reg3 = final_model.fit(train_features)\n",
        "  result = reg3.transform(train_features)\n",
        "  return result, reg1, reg2, reg3"
      ],
      "metadata": {
        "id": "d0SFtecp7KLC"
      },
      "execution_count": null,
      "outputs": []
    },
    {
      "cell_type": "code",
      "source": [
        "def transform_pipeline(data, model1, model2, final_model):\n",
        "  #Tweedie\n",
        "  predictions= transform(data, model1)\n",
        "  train_new = predictions.withColumnRenamed('prediction', 'dt_pred')\n",
        "\n",
        "\n",
        "  #GBR\n",
        "  predictions = transform(data, model2)\n",
        "  train_gbr = predictions.withColumnRenamed('prediction', 'gbr_pred').drop('features','label')\n",
        "\n",
        "  #concatenating feature vectors for final estimation\n",
        "  train_new = train_new.withColumn(\"id\", F.monotonically_increasing_id())\n",
        "  train_gbr = train_gbr.withColumn(\"id\", F.monotonically_increasing_id())\n",
        "  train_df = train_new.join(train_gbr, on=['id'], how='left_outer')\n",
        "  train_features = my_VectorAssembler( ['features','dt_pred', 'gbr_pred'] , 'meta_features', train_df)\n",
        "  train_features = train_features.select(['meta_features', 'label'])\n",
        "  train_features= train_features.withColumnRenamed('meta_features', 'features')\n",
        "\n",
        "  #Final estimator Random forest\n",
        "  result = transform(train_features, final_model)\n",
        "  return result"
      ],
      "metadata": {
        "id": "7gaxSzx486DZ"
      },
      "execution_count": null,
      "outputs": []
    },
    {
      "cell_type": "code",
      "source": [
        "from pyspark.mllib.evaluation import RegressionMetrics\n",
        "\n",
        "def evaluate(result):\n",
        "  result= preds.withColumn('label', col('label').cast('double'))\n",
        "\n",
        "  valuesAndPreds = result.select(['label', 'prediction'])\n",
        "  # It needs to convert to RDD as the parameter of RegressionMetrics\n",
        "  valuesAndPreds = valuesAndPreds.rdd.map(tuple)\n",
        "\n",
        "  metrics = RegressionMetrics(valuesAndPreds)\n",
        "\n",
        "  # Squared Error\n",
        "  print(\"MSE = %s\" % metrics.meanSquaredError)\n",
        "  print(\"RMSE = %s\" % metrics.rootMeanSquaredError)\n",
        "  # Mean absolute error\n",
        "  print(\"MAE = %s\" % metrics.meanAbsoluteError)\n",
        "    # R squared \n",
        "  print(\"R2 = %s\" % metrics.r2)\n",
        "  # Explained variance\n",
        "  print(\"Explained variance = %s\" % metrics.explainedVariance)\n",
        "\n",
        "  \n",
        "  pred_pandas = result.toPandas()\n",
        "  plt.scatter('label', 'prediction', data = pred_pandas)\n",
        "  plt.xlabel('Actual values')\n",
        "  plt.ylabel('Predicted values')\n",
        "  plt.show()"
      ],
      "metadata": {
        "id": "JtR99VKs9Oxp"
      },
      "execution_count": null,
      "outputs": []
    },
    {
      "cell_type": "markdown",
      "source": [
        "Stack 1"
      ],
      "metadata": {
        "id": "xL_ozB3R_g_q"
      }
    },
    {
      "cell_type": "code",
      "source": [
        "result, dt_model1, gbr_model1, rf_model1 = train_pipeline(train1, train2, dt, gbr, rf)\n",
        "\n",
        "preds = transform_pipeline(test, dt_model1, gbr_model1, rf_model1)\n",
        "evaluate(preds)\n",
        "preds.show(10)"
      ],
      "metadata": {
        "id": "xYKt2EJQ-Gw8",
        "colab": {
          "base_uri": "https://localhost:8080/",
          "height": 695
        },
        "outputId": "0a0fd533-a31c-455a-c64f-226c0bb024d2"
      },
      "execution_count": null,
      "outputs": [
        {
          "output_type": "stream",
          "name": "stderr",
          "text": [
            "/usr/local/lib/python3.7/dist-packages/pyspark/sql/context.py:127: FutureWarning: Deprecated in 3.0.0. Use SparkSession.builder.getOrCreate() instead.\n",
            "  FutureWarning\n"
          ]
        },
        {
          "output_type": "stream",
          "name": "stdout",
          "text": [
            "MSE = 65547127044.90976\n",
            "RMSE = 256021.7315872029\n",
            "MAE = 98874.49811962605\n",
            "R2 = 0.9552677801073711\n",
            "Explained variance = 1546535600255.418\n"
          ]
        },
        {
          "output_type": "display_data",
          "data": {
            "text/plain": [
              "<Figure size 432x288 with 1 Axes>"
            ],
            "image/png": "[encoded data removed]"
          },
          "metadata": {
            "needs_background": "light"
          }
        },
        {
          "output_type": "stream",
          "name": "stdout",
          "text": [
            "+--------------------+---------+------------------+\n",
            "|            features|    label|        prediction|\n",
            "+--------------------+---------+------------------+\n",
            "|(55,[0,1,15,19,25...|2315194.0|2553223.5922969747|\n",
            "|(55,[0,2,3,12,15,...| 825802.0|491047.46182866546|\n",
            "|(55,[0,2,3,12,15,...| 610944.0|478688.86067712225|\n",
            "|(55,[0,2,6,12,15,...| 107602.0|496027.53128362854|\n",
            "|(55,[0,2,11,15,27...|      0.0|               0.0|\n",
            "|(55,[0,2,12,15,20...| 393831.0|  489767.898860433|\n",
            "|(55,[0,3,5,12,15,...| 541022.0|  451517.705174474|\n",
            "|(55,[0,3,6,12,15,...|1336965.0|1502871.8675913399|\n",
            "|(55,[0,3,6,12,15,...|1721813.0|1502481.1396665415|\n",
            "|(55,[0,3,6,15,27,...|      0.0|               0.0|\n",
            "+--------------------+---------+------------------+\n",
            "only showing top 10 rows\n",
            "\n"
          ]
        }
      ]
    },
    {
      "cell_type": "markdown",
      "source": [
        "Stack 2"
      ],
      "metadata": {
        "id": "JHj0fVpnBjp6"
      }
    },
    {
      "cell_type": "code",
      "source": [
        "result, tweedie, dtree, rf = train_pipeline(train1, train2,\n",
        "                                            GeneralizedLinearRegression(family=\"tweedie\", labelCol=\"label\",maxIter= 200),\n",
        "                                            DecisionTreeRegressor(maxDepth= 10),\n",
        "                                            RandomForestRegressor(numTrees=100, maxDepth=10))\n",
        "\n",
        "preds = transform_pipeline(test, tweedie, dtree, rf)\n",
        "evaluate(preds)\n",
        "preds.show(10)"
      ],
      "metadata": {
        "colab": {
          "base_uri": "https://localhost:8080/",
          "height": 695
        },
        "id": "ll6Rvb-WBiIC",
        "outputId": "0be74ac3-2942-442a-87e5-1dc27fd8f21a"
      },
      "execution_count": null,
      "outputs": [
        {
          "output_type": "stream",
          "name": "stderr",
          "text": [
            "/usr/local/lib/python3.7/dist-packages/pyspark/sql/context.py:127: FutureWarning: Deprecated in 3.0.0. Use SparkSession.builder.getOrCreate() instead.\n",
            "  FutureWarning\n"
          ]
        },
        {
          "output_type": "stream",
          "name": "stdout",
          "text": [
            "MSE = 64979443925.105125\n",
            "RMSE = 254910.65871223417\n",
            "MAE = 98907.61268853932\n",
            "R2 = 0.9555007734167269\n",
            "Explained variance = 1546535666679.315\n"
          ]
        },
        {
          "output_type": "display_data",
          "data": {
            "text/plain": [
              "<Figure size 432x288 with 1 Axes>"
            ],
            "image/png": "[encoded data removed]"
          },
          "metadata": {
            "needs_background": "light"
          }
        },
        {
          "output_type": "stream",
          "name": "stdout",
          "text": [
            "+--------------------+---------+------------------+\n",
            "|            features|    label|        prediction|\n",
            "+--------------------+---------+------------------+\n",
            "|(55,[0,1,15,19,25...|2315194.0| 2518981.519681841|\n",
            "|(55,[0,2,3,12,15,...| 825802.0| 497459.7701300716|\n",
            "|(55,[0,2,3,12,15,...| 610944.0|466182.38690153824|\n",
            "|(55,[0,2,6,12,15,...| 107602.0|502787.59120953636|\n",
            "|(55,[0,2,11,15,27...|      0.0|               0.0|\n",
            "|(55,[0,2,12,15,20...| 393831.0|509743.80594858795|\n",
            "|(55,[0,3,5,12,15,...| 541022.0| 427695.9910096292|\n",
            "|(55,[0,3,6,12,15,...|1336965.0|1507515.9786048029|\n",
            "|(55,[0,3,6,12,15,...|1721813.0|1501978.9238399009|\n",
            "|(55,[0,3,6,15,27,...|      0.0| 10.07905138339921|\n",
            "+--------------------+---------+------------------+\n",
            "only showing top 10 rows\n",
            "\n"
          ]
        }
      ]
    },
    {
      "cell_type": "markdown",
      "source": [
        "Stack 3"
      ],
      "metadata": {
        "id": "joVNzx3xGetu"
      }
    },
    {
      "cell_type": "code",
      "source": [
        "result, dtree, gbr, tweedie = train_pipeline(train1, train2,\n",
        "                                            DecisionTreeRegressor(maxDepth= 10),\n",
        "                                            GBTRegressor(featuresCol=\"features\", maxIter=10),\n",
        "                                            GeneralizedLinearRegression(family=\"tweedie\", labelCol=\"label\",maxIter= 200))\n",
        "\n",
        "preds = transform_pipeline(test, dtree, gbr, tweedie)\n",
        "evaluate(preds)\n",
        "preds.show(10)"
      ],
      "metadata": {
        "id": "mrj7cGUSGdzs",
        "colab": {
          "base_uri": "https://localhost:8080/",
          "height": 695
        },
        "outputId": "7d9f84e4-5dad-4b8e-f2a1-e733a4d5b612"
      },
      "execution_count": null,
      "outputs": [
        {
          "output_type": "stream",
          "name": "stderr",
          "text": [
            "/usr/local/lib/python3.7/dist-packages/pyspark/sql/context.py:127: FutureWarning: Deprecated in 3.0.0. Use SparkSession.builder.getOrCreate() instead.\n",
            "  FutureWarning\n"
          ]
        },
        {
          "output_type": "stream",
          "name": "stdout",
          "text": [
            "MSE = 62747052351.92655\n",
            "RMSE = 250493.61738760243\n",
            "MAE = 104662.97496598146\n",
            "R2 = 0.9574245774670264\n",
            "Explained variance = 1546535477530.0476\n"
          ]
        },
        {
          "output_type": "display_data",
          "data": {
            "text/plain": [
              "<Figure size 432x288 with 1 Axes>"
            ],
            "image/png": "[encoded data removed]"
          },
          "metadata": {
            "needs_background": "light"
          }
        },
        {
          "output_type": "stream",
          "name": "stdout",
          "text": [
            "+--------------------+---------+------------------+\n",
            "|            features|    label|        prediction|\n",
            "+--------------------+---------+------------------+\n",
            "|(55,[0,1,15,19,25...|2315194.0| 2503493.335345082|\n",
            "|(55,[0,2,3,12,15,...| 825802.0| 581989.3919716838|\n",
            "|(55,[0,2,3,12,15,...| 610944.0| 578993.0705288313|\n",
            "|(55,[0,2,6,12,15,...| 107602.0| 585766.4443772917|\n",
            "|(55,[0,2,11,15,27...|      0.0|17317.099511672262|\n",
            "|(55,[0,2,12,15,20...| 393831.0|  589098.461397223|\n",
            "|(55,[0,3,5,12,15,...| 541022.0| 518356.9619365618|\n",
            "|(55,[0,3,6,12,15,...|1336965.0|1505123.2221728242|\n",
            "|(55,[0,3,6,12,15,...|1721813.0|1504702.1250992417|\n",
            "|(55,[0,3,6,15,27,...|      0.0|   2452.1700221061|\n",
            "+--------------------+---------+------------------+\n",
            "only showing top 10 rows\n",
            "\n"
          ]
        }
      ]
    },
    {
      "cell_type": "code",
      "source": [
        ""
      ],
      "metadata": {
        "id": "IZAPH7nfoQs4"
      },
      "execution_count": null,
      "outputs": []
    }
  ],
  "metadata": {
    "colab": {
      "collapsed_sections": [],
      "name": "Stacked_model_in_pyspark.ipynb",
      "provenance": []
    },
    "kernelspec": {
      "display_name": "Python 3",
      "name": "python3"
    },
    "language_info": {
      "name": "python"
    }
  },
  "nbformat": 4,
  "nbformat_minor": 0
}