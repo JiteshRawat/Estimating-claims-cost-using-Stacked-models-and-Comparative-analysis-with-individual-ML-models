{
  "cells": [
    {
      "cell_type": "markdown",
      "metadata": {
        "id": "iQv8532_jWmR"
      },
      "source": [
        "import libraries"
      ]
    },
    {
      "cell_type": "code",
      "execution_count": null,
      "metadata": {
        "id": "0GIjDb7oTTMn"
      },
      "outputs": [],
      "source": [
        "!pip install pyspark\n",
        "!pip install -U -q PyDrive\n",
        "!apt install openjdk-8-jdk-headless -qq\n",
        "import os\n",
        "os.environ[\"JAVA_HOME\"] = \"/usr/lib/jvm/java-8-openjdk-amd64\"\n",
        "import pandas as pd\n",
        "import numpy as np\n",
        "import matplotlib.pyplot as plt\n",
        "import seaborn as sns \n",
        "sns.set_theme()\n",
        "%matplotlib inline\n",
        "\n",
        "import pyspark\n",
        "from pyspark.sql import *\n",
        "from pyspark.sql.types import *\n",
        "from pyspark.sql.functions import *\n",
        "from pyspark.sql.functions import pandas_udf, PandasUDFType\n",
        "from pyspark import SparkContext, SparkConf\n",
        "from pyspark.ml.regression import GeneralizedLinearRegression\n",
        "from pyspark.mllib.evaluation import RegressionMetrics"
      ]
    },
    {
      "cell_type": "code",
      "execution_count": null,
      "metadata": {
        "id": "Js_QqVfJUNOX"
      },
      "outputs": [],
      "source": [
        "# create the session\n",
        "conf = SparkConf().set(\"spark.ui.port\", \"4050\")\n",
        "\n",
        "# create the context\n",
        "sc = pyspark.SparkContext(conf=conf)\n",
        "spark = SparkSession.builder.getOrCreate()"
      ]
    },
    {
      "cell_type": "markdown",
      "metadata": {
        "id": "dpCa8OmTjcyO"
      },
      "source": [
        "Loading dataset"
      ]
    },
    {
      "cell_type": "code",
      "execution_count": null,
      "metadata": {
        "id": "0iKnkyLkTXyL"
      },
      "outputs": [],
      "source": [
        "filepath = \"/content/drive/MyDrive/CAS_with_claims_final.csv\"\n",
        "df = spark.read.csv(filepath, header= True, inferSchema = True)"
      ]
    },
    {
      "cell_type": "markdown",
      "source": [
        "Preprocessing"
      ],
      "metadata": {
        "id": "X5DpD0JFUiJ2"
      }
    },
    {
      "cell_type": "code",
      "source": [
        "col_to_drop = ['_c0', 'X', 'Y','OBJECTID' ,'crashRoadSideRoad','intersection','pedestrian','temporarySpeedLimit','advisorySpeed',\n",
        "              'crashDirectionDescription', 'crashFinancialYear', 'crashLocation1', 'crashLocation2', 'crashSHDescription',\n",
        "              'directionRoleDescription', 'flatHill', 'holiday', 'light', 'region',\n",
        "              'roadCharacter', 'roadLane', 'roadSurface', 'streetLight', 'tlaName', 'meshblockId', 'areaUnitID', 'crashYear', 'tlaId',\n",
        "              'trafficControl', 'crashSeverity' ]\n",
        "df = df.drop(*col_to_drop)\n",
        "\n",
        "df = df.na.drop()\n",
        "cols_to_encode= ['weatherA', 'weatherB', 'urban']\n",
        "# import the required libraries\n",
        "from pyspark.ml.feature import StringIndexer\n",
        "from pyspark.ml.feature import OneHotEncoder\n",
        "\n",
        "# numeric indexing for the strings (indexing starts from 0)\n",
        "indexer = StringIndexer(inputCols= cols_to_encode, outputCols= ['weatherA_num', 'weatherB_num', 'urban_num'] ) \n",
        "\n",
        "# fit the indexer model and use it to transform the strings into numeric indices\n",
        "indexed_df = indexer.fit(df).transform(df)\n",
        "\n",
        "# one-hot-encoding the numeric indices\n",
        "ohe = OneHotEncoder(inputCols= [ 'weatherA_num', 'weatherB_num', 'urban_num'], outputCols= ['weatherA_onehot', 'weatherB_onehot', 'urban_onehot'])\n",
        "\n",
        "# fit the ohe model and use it to transform the numeric indices into ohe vectors\n",
        "df1 = ohe.fit(indexed_df).transform(indexed_df)\n",
        "\n",
        "df1= df1.drop(*cols_to_encode)\n",
        "X = df1.drop('Claim_amount')"
      ],
      "metadata": {
        "id": "ZdtOUEJGhrd3"
      },
      "execution_count": null,
      "outputs": []
    },
    {
      "cell_type": "markdown",
      "metadata": {
        "id": "B6N9b-avjltt"
      },
      "source": [
        "Vectorization to fit into model"
      ]
    },
    {
      "cell_type": "code",
      "execution_count": null,
      "metadata": {
        "colab": {
          "base_uri": "https://localhost:8080/"
        },
        "id": "LIKO9ForIIQG",
        "outputId": "663e9405-123a-49be-8bbd-48e9e4858511"
      },
      "outputs": [
        {
          "output_type": "stream",
          "name": "stdout",
          "text": [
            "+--------------------+---------+\n",
            "|            features|    label|\n",
            "+--------------------+---------+\n",
            "|(53,[0,1,3,12,15,...|3572792.0|\n",
            "|(53,[0,1,12,15,27...|1188144.0|\n",
            "|(53,[0,1,15,27,37...|      0.0|\n",
            "|(53,[0,2,3,12,15,...| 825802.0|\n",
            "|(53,[0,2,3,12,15,...| 610944.0|\n",
            "+--------------------+---------+\n",
            "only showing top 5 rows\n",
            "\n"
          ]
        }
      ],
      "source": [
        "from pyspark.ml.feature import VectorAssembler\n",
        "\n",
        "vectorAssembler = VectorAssembler(inputCols = X.columns, outputCol = 'features')\n",
        "v_df = vectorAssembler.transform(df1)\n",
        "v_df = v_df.select(['features', 'Claim_amount'])\n",
        "v_df1= v_df.withColumnRenamed('Claim_amount', 'label')\n",
        "train, test= v_df1.randomSplit([0.7, 0.3])\n",
        "train.show(5)"
      ]
    },
    {
      "cell_type": "code",
      "source": [
        "def evaluate(model):\n",
        "  #Prediction\n",
        "  pred= model.transform(test)\n",
        "  pred= pred.withColumn('label', col('label').cast('double'))\n",
        "  valuesAndPreds = pred.select(['label', 'prediction'])\n",
        "\n",
        "  # It needs to convert to RDD as the parameter of RegressionMetrics\n",
        "  valuesAndPreds = valuesAndPreds.rdd.map(tuple)\n",
        "\n",
        "  #Evaluation\n",
        "  metrics = RegressionMetrics(valuesAndPreds)\n",
        "  # Squared Error\n",
        "  print(\"MSE = %s\" % metrics.meanSquaredError)\n",
        "  print(\"RMSE = %s\" % metrics.rootMeanSquaredError)\n",
        "  # Mean absolute error\n",
        "  print(\"MAE = %s\" % metrics.meanAbsoluteError)\n",
        "  # R squared \n",
        "  print(\"R2 = %s\" % metrics.r2)\n",
        "  # Explained variance\n",
        "  print(\"Explained variance = %s\" % metrics.explainedVariance)\n",
        "\n",
        "  pred_pandas = pred.toPandas()\n",
        "\n",
        "  plt.scatter('label', 'prediction', data = pred_pandas)\n",
        "  plt.xlabel('Actual values')\n",
        "  plt.ylabel('Predicted values')\n",
        "  plt.show()"
      ],
      "metadata": {
        "id": "nCuQXvf5n0Nt"
      },
      "execution_count": null,
      "outputs": []
    },
    {
      "cell_type": "markdown",
      "metadata": {
        "id": "XPUaQ1YZjsBe"
      },
      "source": [
        "Tweedie GLM"
      ]
    },
    {
      "cell_type": "code",
      "execution_count": null,
      "metadata": {
        "id": "8lF0GNmM_EH7"
      },
      "outputs": [],
      "source": [
        "#Estimating Claims cost using Gamma Distribution\n",
        "tweedie = GeneralizedLinearRegression(family=\"tweedie\", labelCol=\"label\",maxIter= 500)\n",
        "t_model= tweedie.fit(train)\n",
        "\n",
        "evaluate(t_model)"
      ]
    },
    {
      "cell_type": "code",
      "source": [
        "evaluate(t_model)"
      ],
      "metadata": {
        "colab": {
          "base_uri": "https://localhost:8080/",
          "height": 417
        },
        "id": "piGCQ-ksgNgo",
        "outputId": "2e865b38-5368-481c-bdc4-e81cbcb91b2c"
      },
      "execution_count": null,
      "outputs": [
        {
          "output_type": "stream",
          "name": "stderr",
          "text": [
            "/usr/local/lib/python3.7/dist-packages/pyspark/sql/context.py:127: FutureWarning: Deprecated in 3.0.0. Use SparkSession.builder.getOrCreate() instead.\n",
            "  FutureWarning\n"
          ]
        },
        {
          "output_type": "stream",
          "name": "stdout",
          "text": [
            "MSE = 333847453820.2811\n",
            "RMSE = 577795.339043403\n",
            "MAE = 304273.7537406553\n",
            "R2 = 0.7466373208313465\n",
            "Explained variance = 1592339054414.0586\n"
          ]
        },
        {
          "output_type": "display_data",
          "data": {
            "text/plain": [
              "<Figure size 432x288 with 1 Axes>"
            ],
            "image/png": "[encoded data removed]"
          },
          "metadata": {
            "needs_background": "light"
          }
        }
      ]
    },
    {
      "cell_type": "code",
      "source": [
        "pred= t_model.transform(test)\n",
        "pred= pred.withColumn('label', col('label').cast('double'))\n",
        "pred_pandas = pred.toPandas()"
      ],
      "metadata": {
        "id": "r1S9ahfq-59B"
      },
      "execution_count": null,
      "outputs": []
    },
    {
      "cell_type": "code",
      "source": [
        "pred_pandas['residual'] = pred_pandas['label'] - pred_pandas['prediction']\n",
        "pred_pandas.head()"
      ],
      "metadata": {
        "colab": {
          "base_uri": "https://localhost:8080/",
          "height": 206
        },
        "id": "pxQbVyob_BiZ",
        "outputId": "ba1ebc23-ac65-45c3-a554-be0c7499b958"
      },
      "execution_count": null,
      "outputs": [
        {
          "output_type": "execute_result",
          "data": {
            "text/plain": [
              "                                            features      label    prediction  \\\n",
              "0  (1.0, 1.0, 0.0, 0.0, 0.0, 0.0, 0.0, 0.0, 0.0, ...  2315194.0  2.636509e+06   \n",
              "1  (1.0, 0.0, 1.0, 1.0, 0.0, 0.0, 0.0, 0.0, 0.0, ...   237430.0  6.023641e+05   \n",
              "2  (1.0, 0.0, 1.0, 0.0, 0.0, 0.0, 1.0, 0.0, 0.0, ...   107602.0  5.766052e+05   \n",
              "3  (1.0, 0.0, 1.0, 0.0, 0.0, 0.0, 0.0, 0.0, 0.0, ...        0.0 -3.381226e+05   \n",
              "4  (1.0, 0.0, 1.0, 0.0, 0.0, 0.0, 0.0, 0.0, 0.0, ...        0.0 -3.456557e+05   \n",
              "\n",
              "        residual  \n",
              "0 -321315.453005  \n",
              "1 -364934.103582  \n",
              "2 -469003.205950  \n",
              "3  338122.613633  \n",
              "4  345655.724189  "
            ],
            "text/html": [
              "\n",
              "  <div id=\"df-f4207871-b5fe-45ce-ad76-b288b630e2ac\">\n",
              "    <div class=\"colab-df-container\">\n",
              "      <div>\n",
              "<style scoped>\n",
              "    .dataframe tbody tr th:only-of-type {\n",
              "        vertical-align: middle;\n",
              "    }\n",
              "\n",
              "    .dataframe tbody tr th {\n",
              "        vertical-align: top;\n",
              "    }\n",
              "\n",
              "    .dataframe thead th {\n",
              "        text-align: right;\n",
              "    }\n",
              "</style>\n",
              "<table border=\"1\" class=\"dataframe\">\n",
              "  <thead>\n",
              "    <tr style=\"text-align: right;\">\n",
              "      <th></th>\n",
              "      <th>features</th>\n",
              "      <th>label</th>\n",
              "      <th>prediction</th>\n",
              "      <th>residual</th>\n",
              "    </tr>\n",
              "  </thead>\n",
              "  <tbody>\n",
              "    <tr>\n",
              "      <th>0</th>\n",
              "      <td>(1.0, 1.0, 0.0, 0.0, 0.0, 0.0, 0.0, 0.0, 0.0, ...</td>\n",
              "      <td>2315194.0</td>\n",
              "      <td>2.636509e+06</td>\n",
              "      <td>-321315.453005</td>\n",
              "    </tr>\n",
              "    <tr>\n",
              "      <th>1</th>\n",
              "      <td>(1.0, 0.0, 1.0, 1.0, 0.0, 0.0, 0.0, 0.0, 0.0, ...</td>\n",
              "      <td>237430.0</td>\n",
              "      <td>6.023641e+05</td>\n",
              "      <td>-364934.103582</td>\n",
              "    </tr>\n",
              "    <tr>\n",
              "      <th>2</th>\n",
              "      <td>(1.0, 0.0, 1.0, 0.0, 0.0, 0.0, 1.0, 0.0, 0.0, ...</td>\n",
              "      <td>107602.0</td>\n",
              "      <td>5.766052e+05</td>\n",
              "      <td>-469003.205950</td>\n",
              "    </tr>\n",
              "    <tr>\n",
              "      <th>3</th>\n",
              "      <td>(1.0, 0.0, 1.0, 0.0, 0.0, 0.0, 0.0, 0.0, 0.0, ...</td>\n",
              "      <td>0.0</td>\n",
              "      <td>-3.381226e+05</td>\n",
              "      <td>338122.613633</td>\n",
              "    </tr>\n",
              "    <tr>\n",
              "      <th>4</th>\n",
              "      <td>(1.0, 0.0, 1.0, 0.0, 0.0, 0.0, 0.0, 0.0, 0.0, ...</td>\n",
              "      <td>0.0</td>\n",
              "      <td>-3.456557e+05</td>\n",
              "      <td>345655.724189</td>\n",
              "    </tr>\n",
              "  </tbody>\n",
              "</table>\n",
              "</div>\n",
              "      <button class=\"colab-df-convert\" onclick=\"convertToInteractive('df-f4207871-b5fe-45ce-ad76-b288b630e2ac')\"\n",
              "              title=\"Convert this dataframe to an interactive table.\"\n",
              "              style=\"display:none;\">\n",
              "        \n",
              "  <svg xmlns=\"http://www.w3.org/2000/svg\" height=\"24px\"viewBox=\"0 0 24 24\"\n",
              "       width=\"24px\">\n",
              "    <path d=\"M0 0h24v24H0V0z\" fill=\"none\"/>\n",
              "    <path d=\"M18.56 5.44l.94 2.06.94-2.06 2.06-.94-2.06-.94-.94-2.06-.94 2.06-2.06.94zm-11 1L8.5 8.5l.94-2.06 2.06-.94-2.06-.94L8.5 2.5l-.94 2.06-2.06.94zm10 10l.94 2.06.94-2.06 2.06-.94-2.06-.94-.94-2.06-.94 2.06-2.06.94z\"/><path d=\"M17.41 7.96l-1.37-1.37c-.4-.4-.92-.59-1.43-.59-.52 0-1.04.2-1.43.59L10.3 9.45l-7.72 7.72c-.78.78-.78 2.05 0 2.83L4 21.41c.39.39.9.59 1.41.59.51 0 1.02-.2 1.41-.59l7.78-7.78 2.81-2.81c.8-.78.8-2.07 0-2.86zM5.41 20L4 18.59l7.72-7.72 1.47 1.35L5.41 20z\"/>\n",
              "  </svg>\n",
              "      </button>\n",
              "      \n",
              "  <style>\n",
              "    .colab-df-container {\n",
              "      display:flex;\n",
              "      flex-wrap:wrap;\n",
              "      gap: 12px;\n",
              "    }\n",
              "\n",
              "    .colab-df-convert {\n",
              "      background-color: #E8F0FE;\n",
              "      border: none;\n",
              "      border-radius: 50%;\n",
              "      cursor: pointer;\n",
              "      display: none;\n",
              "      fill: #1967D2;\n",
              "      height: 32px;\n",
              "      padding: 0 0 0 0;\n",
              "      width: 32px;\n",
              "    }\n",
              "\n",
              "    .colab-df-convert:hover {\n",
              "      background-color: #E2EBFA;\n",
              "      box-shadow: 0px 1px 2px rgba(60, 64, 67, 0.3), 0px 1px 3px 1px rgba(60, 64, 67, 0.15);\n",
              "      fill: #174EA6;\n",
              "    }\n",
              "\n",
              "    [theme=dark] .colab-df-convert {\n",
              "      background-color: #3B4455;\n",
              "      fill: #D2E3FC;\n",
              "    }\n",
              "\n",
              "    [theme=dark] .colab-df-convert:hover {\n",
              "      background-color: #434B5C;\n",
              "      box-shadow: 0px 1px 3px 1px rgba(0, 0, 0, 0.15);\n",
              "      filter: drop-shadow(0px 1px 2px rgba(0, 0, 0, 0.3));\n",
              "      fill: #FFFFFF;\n",
              "    }\n",
              "  </style>\n",
              "\n",
              "      <script>\n",
              "        const buttonEl =\n",
              "          document.querySelector('#df-f4207871-b5fe-45ce-ad76-b288b630e2ac button.colab-df-convert');\n",
              "        buttonEl.style.display =\n",
              "          google.colab.kernel.accessAllowed ? 'block' : 'none';\n",
              "\n",
              "        async function convertToInteractive(key) {\n",
              "          const element = document.querySelector('#df-f4207871-b5fe-45ce-ad76-b288b630e2ac');\n",
              "          const dataTable =\n",
              "            await google.colab.kernel.invokeFunction('convertToInteractive',\n",
              "                                                     [key], {});\n",
              "          if (!dataTable) return;\n",
              "\n",
              "          const docLinkHtml = 'Like what you see? Visit the ' +\n",
              "            '<a target=\"_blank\" href=https://colab.research.google.com/notebooks/data_table.ipynb>data table notebook</a>'\n",
              "            + ' to learn more about interactive tables.';\n",
              "          element.innerHTML = '';\n",
              "          dataTable['output_type'] = 'display_data';\n",
              "          await google.colab.output.renderOutput(dataTable, element);\n",
              "          const docLink = document.createElement('div');\n",
              "          docLink.innerHTML = docLinkHtml;\n",
              "          element.appendChild(docLink);\n",
              "        }\n",
              "      </script>\n",
              "    </div>\n",
              "  </div>\n",
              "  "
            ]
          },
          "metadata": {},
          "execution_count": 14
        }
      ]
    },
    {
      "cell_type": "markdown",
      "metadata": {
        "id": "FYQj3SRI7jAj"
      },
      "source": [
        "##RF regressor\n"
      ]
    },
    {
      "cell_type": "code",
      "execution_count": null,
      "metadata": {
        "id": "xgwr75UtCmW_",
        "colab": {
          "base_uri": "https://localhost:8080/",
          "height": 417
        },
        "outputId": "ede528a2-6455-4f5d-a044-639d05ba5664"
      },
      "outputs": [
        {
          "output_type": "stream",
          "name": "stderr",
          "text": [
            "/usr/local/lib/python3.7/dist-packages/pyspark/sql/context.py:127: FutureWarning: Deprecated in 3.0.0. Use SparkSession.builder.getOrCreate() instead.\n",
            "  FutureWarning\n"
          ]
        },
        {
          "output_type": "stream",
          "name": "stdout",
          "text": [
            "MSE = 95925207429.60928\n",
            "RMSE = 309717.9481877169\n",
            "MAE = 105467.66023571316\n",
            "R2 = 0.9327828410192088\n",
            "Explained variance = 1592338927304.2595\n"
          ]
        },
        {
          "output_type": "display_data",
          "data": {
            "text/plain": [
              "<Figure size 432x288 with 1 Axes>"
            ],
            "image/png": "[encoded data removed]"
          },
          "metadata": {
            "needs_background": "light"
          }
        }
      ],
      "source": [
        "from pyspark.ml.regression import RandomForestRegressor\n",
        "\n",
        "rf = RandomForestRegressor(numTrees=5, maxDepth=10)\n",
        "rf.setSeed(108)\n",
        "\n",
        "model= rf.fit(train)\n",
        "evaluate(model)"
      ]
    },
    {
      "cell_type": "markdown",
      "metadata": {
        "id": "sepWz5ehKYcJ"
      },
      "source": [
        "Gradient boosted tree regression"
      ]
    },
    {
      "cell_type": "code",
      "execution_count": null,
      "metadata": {
        "id": "bhD9oHCq_pHL",
        "colab": {
          "base_uri": "https://localhost:8080/",
          "height": 417
        },
        "outputId": "77d7bc31-d3b6-4f87-8b50-35340aebe381"
      },
      "outputs": [
        {
          "output_type": "stream",
          "name": "stderr",
          "text": [
            "/usr/local/lib/python3.7/dist-packages/pyspark/sql/context.py:127: FutureWarning: Deprecated in 3.0.0. Use SparkSession.builder.getOrCreate() instead.\n",
            "  FutureWarning\n"
          ]
        },
        {
          "output_type": "stream",
          "name": "stdout",
          "text": [
            "MSE = 75010145240.18265\n",
            "RMSE = 273879.8007159028\n",
            "MAE = 100944.99368859903\n",
            "R2 = 0.9499749527695116\n",
            "Explained variance = 1592339045507.3323\n"
          ]
        },
        {
          "output_type": "display_data",
          "data": {
            "text/plain": [
              "<Figure size 432x288 with 1 Axes>"
            ],
            "image/png": "[encoded data removed]"
          },
          "metadata": {
            "needs_background": "light"
          }
        }
      ],
      "source": [
        "from pyspark.ml.regression import GBTRegressor\n",
        "\n",
        "gbt = GBTRegressor(featuresCol=\"features\", maxIter=10)\n",
        "model = gbt.fit(train)\n",
        "\n",
        "evaluate(model)"
      ]
    },
    {
      "cell_type": "markdown",
      "source": [
        "Dtree"
      ],
      "metadata": {
        "id": "LykMOT7wuhMJ"
      }
    },
    {
      "cell_type": "code",
      "source": [
        "from pyspark.ml.regression import DecisionTreeRegressor\n",
        "from pyspark.mllib.evaluation import RegressionMetrics\n",
        "\n",
        "dt = DecisionTreeRegressor(maxDepth=10)\n",
        "\n",
        "model = dt.fit(train)\n",
        "evaluate(model)"
      ],
      "metadata": {
        "colab": {
          "base_uri": "https://localhost:8080/",
          "height": 417
        },
        "id": "2qqW8_BSui5I",
        "outputId": "6a2a7c03-bb5d-4522-c1e8-c68588a3b04f"
      },
      "execution_count": null,
      "outputs": [
        {
          "output_type": "stream",
          "name": "stderr",
          "text": [
            "/usr/local/lib/python3.7/dist-packages/pyspark/sql/context.py:127: FutureWarning: Deprecated in 3.0.0. Use SparkSession.builder.getOrCreate() instead.\n",
            "  FutureWarning\n"
          ]
        },
        {
          "output_type": "stream",
          "name": "stdout",
          "text": [
            "MSE = 69220997291.19855\n",
            "RMSE = 263098.83559453196\n",
            "MAE = 99835.08046655817\n",
            "R2 = 0.954727587979342\n",
            "Explained variance = 1592338823185.8538\n"
          ]
        },
        {
          "output_type": "display_data",
          "data": {
            "text/plain": [
              "<Figure size 432x288 with 1 Axes>"
            ],
            "image/png": "[encoded data removed]"
          },
          "metadata": {
            "needs_background": "light"
          }
        }
      ]
    }
  ],
  "metadata": {
    "colab": {
      "collapsed_sections": [],
      "name": "Copy of Actuarial_Pyspark_task.ipynb",
      "provenance": []
    },
    "kernelspec": {
      "display_name": "Python 3",
      "name": "python3"
    },
    "language_info": {
      "name": "python"
    }
  },
  "nbformat": 4,
  "nbformat_minor": 0
}